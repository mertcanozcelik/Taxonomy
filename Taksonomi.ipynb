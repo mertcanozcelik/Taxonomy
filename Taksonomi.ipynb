{
  "cells": [
    {
      "cell_type": "code",
      "execution_count": null,
      "id": "ce4ad955",
      "metadata": {
        "id": "ce4ad955",
        "outputId": "cb309427-7f01-45fd-8a34-c4a312c48822"
      },
      "outputs": [
        {
          "name": "stdout",
          "output_type": "stream",
          "text": [
            "Looking in indexes: https://repo.tai.com.tr/repository/Pypi/simpleNote: you may need to restart the kernel to use updated packages.\n",
            "\n",
            "Collecting deep-translator\n",
            "  Downloading https://repo.tai.com.tr/repository/Pypi/packages/deep-translator/1.11.4/deep_translator-1.11.4-py3-none-any.whl (42 kB)\n",
            "     ---------------------------------------- 0.0/42.3 kB ? eta -:--:--\n",
            "     -------------------------------------- - 41.0/42.3 kB ? eta -:--:--\n",
            "     -------------------------------------- 42.3/42.3 kB 681.8 kB/s eta 0:00:00\n",
            "Requirement already satisfied: beautifulsoup4<5.0.0,>=4.9.1 in c:\\programdata\\anaconda3\\lib\\site-packages (from deep-translator) (4.12.2)\n",
            "Requirement already satisfied: requests<3.0.0,>=2.23.0 in c:\\programdata\\anaconda3\\lib\\site-packages (from deep-translator) (2.31.0)\n",
            "Requirement already satisfied: soupsieve>1.2 in c:\\programdata\\anaconda3\\lib\\site-packages (from beautifulsoup4<5.0.0,>=4.9.1->deep-translator) (2.4)\n",
            "Requirement already satisfied: charset-normalizer<4,>=2 in c:\\programdata\\anaconda3\\lib\\site-packages (from requests<3.0.0,>=2.23.0->deep-translator) (2.0.4)\n",
            "Requirement already satisfied: idna<4,>=2.5 in c:\\programdata\\anaconda3\\lib\\site-packages (from requests<3.0.0,>=2.23.0->deep-translator) (3.4)\n",
            "Requirement already satisfied: urllib3<3,>=1.21.1 in c:\\programdata\\anaconda3\\lib\\site-packages (from requests<3.0.0,>=2.23.0->deep-translator) (1.26.16)\n",
            "Requirement already satisfied: certifi>=2017.4.17 in c:\\programdata\\anaconda3\\lib\\site-packages (from requests<3.0.0,>=2.23.0->deep-translator) (2023.7.22)\n",
            "Installing collected packages: deep-translator\n",
            "Successfully installed deep-translator\n"
          ]
        }
      ],
      "source": [
        "pip install deep-translator"
      ]
    },
    {
      "cell_type": "code",
      "execution_count": null,
      "id": "d15774a0",
      "metadata": {
        "id": "d15774a0",
        "outputId": "03ac38d0-3763-410c-90d3-d0aa35eacc9c"
      },
      "outputs": [
        {
          "name": "stdout",
          "output_type": "stream",
          "text": [
            "Note: you may need to restart the kernel to use updated packages.\n"
          ]
        },
        {
          "name": "stderr",
          "output_type": "stream",
          "text": [
            "\n",
            "Usage:   \n",
            "  C:\\ProgramData\\anaconda3\\python.exe -m pip install [options] <requirement specifier> [package-index-options] ...\n",
            "  C:\\ProgramData\\anaconda3\\python.exe -m pip install [options] -r <requirements file> [package-index-options] ...\n",
            "  C:\\ProgramData\\anaconda3\\python.exe -m pip install [options] [-e] <vcs project url> ...\n",
            "  C:\\ProgramData\\anaconda3\\python.exe -m pip install [options] [-e] <local project path> ...\n",
            "  C:\\ProgramData\\anaconda3\\python.exe -m pip install [options] <archive url/path> ...\n",
            "\n",
            "no such option: -u\n"
          ]
        }
      ],
      "source": [
        "pip install -u sentence-transformer"
      ]
    },
    {
      "cell_type": "code",
      "execution_count": null,
      "id": "bc70ee25",
      "metadata": {
        "id": "bc70ee25"
      },
      "outputs": [],
      "source": [
        "import pandas as pd\n",
        "from sentence_transformers import SentenceTransformer, util\n",
        "# Değişiklik 1: Kütüphane değiştirildi\n",
        "from deep_translator import GoogleTranslator\n",
        "from tqdm import tqdm\n",
        "\n",
        "# --- AYARLAR ---\n",
        "# Bu bölümde bir değişiklik yapmanıza gerek yok.\n",
        "SOURCE_DATA_FILE = \"ssb_teknoloji_taksonomisi.xlsx\"\n",
        "QUERY_FILE_PATH = \"sorgu.xlsx\"\n",
        "QUERY_COLUMN_NAME = \"Açıklamalar\"\n",
        "OUTPUT_FILE_PATH = \"arama_sonuclari_revize.xlsx\"\n",
        "TOP_N_RESULTS = 3\n",
        "# --- KOD BAŞLANGICI ---\n",
        "\n",
        "def initialize_model_and_data():\n",
        "    \"\"\"Modeli ve kaynak veriyi yükleyip ön-işler.\"\"\"\n",
        "    print(\"Model yükleniyor (Bu işlem biraz zaman alabilir)...\")\n",
        "    model = SentenceTransformer(\"sentence-transformers/all-mpnet-base-v2\")\n",
        "    print(\"Model yüklendi.\")\n",
        "\n",
        "    print(f\"Kaynak veri seti ({SOURCE_DATA_FILE}) okunuyor...\")\n",
        "    df = pd.read_excel(SOURCE_DATA_FILE)\n",
        "\n",
        "    codes = df.iloc[:, 0].astype(str).tolist()\n",
        "    titles = df.iloc[:, 1].astype(str).tolist()\n",
        "    paragraphs_to_compare = df.iloc[:, 2].astype(str).tolist()\n",
        "    paragraphs_to_display = df.iloc[:, 3].astype(str).tolist()\n",
        "\n",
        "    print(\"Kaynak veri setindeki paragraflar için embedding oluşturuluyor...\")\n",
        "    paragraph_embeddings = model.encode(\n",
        "        paragraphs_to_compare, convert_to_tensor=True, show_progress_bar=True\n",
        "    )\n",
        "    print(\"Embedding oluşturma tamamlandı.\")\n",
        "\n",
        "    return model, paragraph_embeddings, codes, titles, paragraphs_to_display\n",
        "\n",
        "# Değişiklik 2: Fonksiyon parametresi güncellendi (artık translator nesnesine gerek yok)\n",
        "def find_similar_documents(query_sentence, model, embeddings, top_k):\n",
        "    \"\"\"Verilen bir sorgu cümlesine en çok benzeyen belgeleri bulur.\"\"\"\n",
        "    try:\n",
        "        # Değişiklik 3: Çeviri işlemi deep-translator ile yapılıyor\n",
        "        # Bu kütüphane doğrudan metni döndürür ve 'await' gerektirmez.\n",
        "        input_sentence_en = GoogleTranslator(source='auto', target='en').translate(query_sentence)\n",
        "        if not input_sentence_en: # Çeviri sonucu boş veya None ise\n",
        "            raise ValueError(\"Çeviri başarısız oldu.\")\n",
        "\n",
        "    except Exception as e:\n",
        "        print(f\"Çeviri hatası: '{query_sentence}' sorgusu atlanıyor. Hata: {e}\")\n",
        "        return []\n",
        "\n",
        "    input_embedding = model.encode(input_sentence_en, convert_to_tensor=True)\n",
        "    similarities = util.pytorch_cos_sim(input_embedding, embeddings)[0]\n",
        "\n",
        "    combined_similarities = []\n",
        "    for i in range(len(similarities)):\n",
        "        combined_similarities.append((similarities[i].item(), i))\n",
        "\n",
        "    combined_similarities.sort(key=lambda x: x[0], reverse=True)\n",
        "\n",
        "    return combined_similarities[:top_k]\n",
        "\n",
        "def main():\n",
        "    \"\"\"Ana işlem akışını yürüten fonksiyon.\"\"\"\n",
        "    model, paragraph_embeddings, codes, titles, paragraphs_to_display = initialize_model_and_data()\n",
        "\n",
        "    print(f\"Sorgu dosyası okunuyor: {QUERY_FILE_PATH}\")\n",
        "    try:\n",
        "        query_df = pd.read_excel(QUERY_FILE_PATH)\n",
        "        if QUERY_COLUMN_NAME not in query_df.columns:\n",
        "            print(f\"HATA: '{QUERY_COLUMN_NAME}' sütunu '{QUERY_FILE_PATH}' dosyasında bulunamadı.\")\n",
        "            return\n",
        "    except FileNotFoundError:\n",
        "        print(f\"HATA: '{QUERY_FILE_PATH}' dosyası bulunamadı. Lütfen dosya adını ve yolunu kontrol edin.\")\n",
        "        return\n",
        "\n",
        "    queries = query_df[QUERY_COLUMN_NAME].dropna().tolist()\n",
        "    print(f\"Toplam {len(queries)} adet sorgu işlenecek.\")\n",
        "\n",
        "    all_results_data = []\n",
        "\n",
        "    for query in tqdm(queries, desc=\"Sorgular işleniyor\"):\n",
        "        # Değişiklik 4: Fonksiyon çağrısı güncellendi\n",
        "        top_results_indices = find_similar_documents(\n",
        "            query, model, paragraph_embeddings, TOP_N_RESULTS\n",
        "        )\n",
        "\n",
        "        if not top_results_indices:\n",
        "            all_results_data.append({\n",
        "                \"Orjinal Sorgu\": query,\n",
        "                \"Sıra\": 1,\n",
        "                \"Benzerlik\": \"HATA\",\n",
        "                \"Bulunan Kod\": \"İşlenemedi\",\n",
        "                \"Bulunan Başlık\": \"İşlenemedi\",\n",
        "                \"Bulunan Açıklama (TR)\": \"Bu sorgu çevrilirken veya işlenirken bir hata oluştu.\"\n",
        "            })\n",
        "            continue\n",
        "\n",
        "        for rank, (score, index) in enumerate(top_results_indices, 1):\n",
        "            all_results_data.append({\n",
        "                \"Orjinal Sorgu\": query,\n",
        "                \"Sıra\": rank,\n",
        "                \"Benzerlik\": round(score, 3),\n",
        "                \"Bulunan Kod\": codes[index],\n",
        "                \"Bulunan Başlık\": titles[index],\n",
        "                \"Bulunan Açıklama (TR)\": paragraphs_to_display[index],\n",
        "            })\n",
        "\n",
        "    print(\"Tüm sorgular işlendi. Sonuçlar Excel dosyasına yazılıyor...\")\n",
        "\n",
        "    results_df = pd.DataFrame(all_results_data)\n",
        "    results_df.to_excel(OUTPUT_FILE_PATH, index=False, engine='openpyxl')\n",
        "\n",
        "    print(f\"İşlem tamamlandı! Sonuçlar '{OUTPUT_FILE_PATH}' dosyasına kaydedildi.\")\n",
        "\n",
        "\n",
        "if __name__ == \"__main__\":\n",
        "    main()\n"
      ]
    }
  ],
  "metadata": {
    "kernelspec": {
      "display_name": "Python 3 (ipykernel)",
      "language": "python",
      "name": "python3"
    },
    "language_info": {
      "codemirror_mode": {
        "name": "ipython",
        "version": 3
      },
      "file_extension": ".py",
      "mimetype": "text/x-python",
      "name": "python",
      "nbconvert_exporter": "python",
      "pygments_lexer": "ipython3",
      "version": "3.11.4"
    },
    "colab": {
      "provenance": []
    }
  },
  "nbformat": 4,
  "nbformat_minor": 5
}